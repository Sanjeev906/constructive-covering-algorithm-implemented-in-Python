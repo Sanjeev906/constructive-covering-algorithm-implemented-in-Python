{
 "cells": [
  {
   "cell_type": "code",
   "execution_count": 1,
   "metadata": {},
   "outputs": [],
   "source": [
    "import numpy as np\n",
    "import sys\n",
    "import os.path\n",
    "np.set_printoptions(suppress=True)"
   ]
  },
  {
   "cell_type": "code",
   "execution_count": 2,
   "metadata": {},
   "outputs": [],
   "source": [
    "ROOT_DIR = os.path.dirname(os.path.abspath('__file__'))\n",
    "dataset_path = os.path.join(ROOT_DIR,r'data_set\\soybean-small.data')\n",
    "dataset_out_path = os.path.join(ROOT_DIR,r'data_set\\data_transformed\\raw_dataset.out')"
   ]
  },
  {
   "cell_type": "code",
   "execution_count": 3,
   "metadata": {},
   "outputs": [],
   "source": [
    "label_set = (\n",
    "    b'D1',\n",
    "    b'D2',\n",
    "    b'D3',\n",
    "    b'D4'\n",
    ")\n",
    "def read_label2(label):\n",
    "    return label_set.index(label)"
   ]
  },
  {
   "cell_type": "code",
   "execution_count": 4,
   "metadata": {},
   "outputs": [
    {
     "name": "stdout",
     "output_type": "stream",
     "text": [
      "[[4. 0. 2. ... 0. 0. 0.]\n",
      " [5. 0. 2. ... 0. 0. 0.]\n",
      " [3. 0. 2. ... 0. 0. 0.]\n",
      " ...\n",
      " [2. 1. 1. ... 0. 1. 3.]\n",
      " [0. 1. 1. ... 0. 1. 3.]\n",
      " [0. 1. 2. ... 0. 1. 3.]]\n"
     ]
    }
   ],
   "source": [
    "raw_dataset = np.loadtxt(dataset_path, delimiter = ',', converters ={35:read_label2})\n",
    "print(raw_dataset)"
   ]
  },
  {
   "cell_type": "code",
   "execution_count": 5,
   "metadata": {},
   "outputs": [],
   "source": [
    "np.savetxt(dataset_out_path, raw_dataset, delimiter=',')"
   ]
  }
 ],
 "metadata": {
  "kernelspec": {
   "display_name": "Python 3",
   "language": "python",
   "name": "python3"
  },
  "language_info": {
   "codemirror_mode": {
    "name": "ipython",
    "version": 3
   },
   "file_extension": ".py",
   "mimetype": "text/x-python",
   "name": "python",
   "nbconvert_exporter": "python",
   "pygments_lexer": "ipython3",
   "version": "3.7.3"
  }
 },
 "nbformat": 4,
 "nbformat_minor": 2
}
