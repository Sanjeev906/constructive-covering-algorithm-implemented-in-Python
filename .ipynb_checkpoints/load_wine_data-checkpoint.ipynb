{
 "cells": [
  {
   "cell_type": "code",
   "execution_count": 1,
   "metadata": {},
   "outputs": [],
   "source": [
    "import numpy as np\n",
    "import sys\n",
    "import os.path\n",
    "np.set_printoptions(suppress=True)"
   ]
  },
  {
   "cell_type": "code",
   "execution_count": 2,
   "metadata": {},
   "outputs": [],
   "source": [
    "ROOT_DIR = os.path.dirname(os.path.abspath('__file__'))\n",
    "dataset_path = os.path.join(ROOT_DIR,r'data_set\\wine.data')\n",
    "dataset_out_path = os.path.join(ROOT_DIR,r'data_set\\data_transformed\\raw_dataset.out')"
   ]
  },
  {
   "cell_type": "code",
   "execution_count": 3,
   "metadata": {},
   "outputs": [],
   "source": [
    "def read_label2(label):\n",
    "    return str(int(label)-1)"
   ]
  },
  {
   "cell_type": "code",
   "execution_count": 4,
   "metadata": {},
   "outputs": [
    {
     "name": "stdout",
     "output_type": "stream",
     "text": [
      "[[1065.     14.23    1.71 ...    1.04    3.92    0.  ]\n",
      " [1050.     13.2     1.78 ...    1.05    3.4     0.  ]\n",
      " [1185.     13.16    2.36 ...    1.03    3.17    0.  ]\n",
      " ...\n",
      " [ 835.     13.27    4.28 ...    0.59    1.56    2.  ]\n",
      " [ 840.     13.17    2.59 ...    0.6     1.62    2.  ]\n",
      " [ 560.     14.13    4.1  ...    0.61    1.6     2.  ]]\n"
     ]
    }
   ],
   "source": [
    "raw_dataset = np.loadtxt(dataset_path, delimiter = ',',converters ={0:read_label2})\n",
    "raw_dataset_label = raw_dataset[...,0]\n",
    "rm = raw_dataset_label.size\n",
    "raw_dataset_label = raw_dataset_label.reshape(rm,1)\n",
    "raw_dataset = np.concatenate((raw_dataset[...,1:],raw_dataset_label),axis = 1)\n",
    "print(raw_dataset)"
   ]
  },
  {
   "cell_type": "code",
   "execution_count": 5,
   "metadata": {},
   "outputs": [],
   "source": [
    "np.savetxt(dataset_out_path, raw_dataset, delimiter=',')"
   ]
  }
 ],
 "metadata": {
  "kernelspec": {
   "display_name": "Python 3",
   "language": "python",
   "name": "python3"
  },
  "language_info": {
   "codemirror_mode": {
    "name": "ipython",
    "version": 3
   },
   "file_extension": ".py",
   "mimetype": "text/x-python",
   "name": "python",
   "nbconvert_exporter": "python",
   "pygments_lexer": "ipython3",
   "version": "3.7.3"
  }
 },
 "nbformat": 4,
 "nbformat_minor": 2
}
